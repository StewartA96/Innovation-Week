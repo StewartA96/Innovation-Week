{
 "cells": [
  {
   "cell_type": "markdown",
   "metadata": {},
   "source": [
    "# Pollution Rates in Glasgow's City Centre in 2020"
   ]
  },
  {
   "cell_type": "code",
   "execution_count": 8,
   "metadata": {},
   "outputs": [],
   "source": [
    "\"\"\"\n",
    "        Importing Packages and Libraries\n",
    "\n",
    "\"\"\" \n",
    "\n",
    "import numpy as np # Import the numpy package for working with arrays\n",
    "import pandas as pd # Import the pandas package for working with dataframes\n",
    "import matplotlib.pyplot as plt # Import the matplotlib package for any relevant plots we wish to visualise\n",
    "import seaborn as sns # Import the seaborn package for data visualisation"
   ]
  },
  {
   "cell_type": "code",
   "execution_count": 9,
   "metadata": {},
   "outputs": [],
   "source": [
    "\"\"\"\n",
    "        Importing Air Pollution Dataset\n",
    "\n",
    "\"\"\"\n",
    "\n",
    "pollution = pd.read_csv(\"AirQualityDataHourly.csv\") # Importing the dataset"
   ]
  },
  {
   "cell_type": "code",
   "execution_count": 10,
   "metadata": {},
   "outputs": [
    {
     "data": {
      "text/plain": [
       "(3728, 26)"
      ]
     },
     "execution_count": 10,
     "metadata": {},
     "output_type": "execute_result"
    }
   ],
   "source": [
    "pollution.shape # Determining the size of the dataframe we are working with"
   ]
  },
  {
   "cell_type": "code",
   "execution_count": 11,
   "metadata": {},
   "outputs": [
    {
     "data": {
      "text/html": [
       "<div>\n",
       "<style scoped>\n",
       "    .dataframe tbody tr th:only-of-type {\n",
       "        vertical-align: middle;\n",
       "    }\n",
       "\n",
       "    .dataframe tbody tr th {\n",
       "        vertical-align: top;\n",
       "    }\n",
       "\n",
       "    .dataframe thead th {\n",
       "        text-align: right;\n",
       "    }\n",
       "</style>\n",
       "<table border=\"1\" class=\"dataframe\">\n",
       "  <thead>\n",
       "    <tr style=\"text-align: right;\">\n",
       "      <th></th>\n",
       "      <th>Date</th>\n",
       "      <th>Time</th>\n",
       "      <th>Nitric oxide</th>\n",
       "      <th>Status</th>\n",
       "      <th>Nitrogen dioxide</th>\n",
       "      <th>Status.1</th>\n",
       "      <th>Nitrogen oxides as nitrogen dioxide</th>\n",
       "      <th>Status.2</th>\n",
       "      <th>PM10 particulate matter (Hourly measured)</th>\n",
       "      <th>Status.3</th>\n",
       "      <th>...</th>\n",
       "      <th>Non-volatile PM2.5 (Hourly measured)</th>\n",
       "      <th>Status.7</th>\n",
       "      <th>Volatile PM2.5 (Hourly measured)</th>\n",
       "      <th>Status.8</th>\n",
       "      <th>Modelled Wind Direction</th>\n",
       "      <th>Status.9</th>\n",
       "      <th>Modelled Wind Speed</th>\n",
       "      <th>Status.10</th>\n",
       "      <th>Modelled Temperature</th>\n",
       "      <th>Status.11</th>\n",
       "    </tr>\n",
       "  </thead>\n",
       "  <tbody>\n",
       "    <tr>\n",
       "      <th>0</th>\n",
       "      <td>01/01/2020</td>\n",
       "      <td>01:00:00</td>\n",
       "      <td>133.9955</td>\n",
       "      <td>P ugm-3</td>\n",
       "      <td>69.24236</td>\n",
       "      <td>P ugm-3</td>\n",
       "      <td>274.69926</td>\n",
       "      <td>P ugm-3</td>\n",
       "      <td>19.575</td>\n",
       "      <td>P ugm-3 (FIDAS)</td>\n",
       "      <td>...</td>\n",
       "      <td>No data</td>\n",
       "      <td>NaN</td>\n",
       "      <td>No data</td>\n",
       "      <td>NaN</td>\n",
       "      <td>204.6</td>\n",
       "      <td>N deg</td>\n",
       "      <td>1.5</td>\n",
       "      <td>N ms-1</td>\n",
       "      <td>3.1</td>\n",
       "      <td>N degC</td>\n",
       "    </tr>\n",
       "    <tr>\n",
       "      <th>1</th>\n",
       "      <td>01/01/2020</td>\n",
       "      <td>02:00:00</td>\n",
       "      <td>109.16566</td>\n",
       "      <td>P ugm-3</td>\n",
       "      <td>62.41148</td>\n",
       "      <td>P ugm-3</td>\n",
       "      <td>229.79649</td>\n",
       "      <td>P ugm-3</td>\n",
       "      <td>26.475</td>\n",
       "      <td>P ugm-3 (FIDAS)</td>\n",
       "      <td>...</td>\n",
       "      <td>No data</td>\n",
       "      <td>NaN</td>\n",
       "      <td>No data</td>\n",
       "      <td>NaN</td>\n",
       "      <td>187.9</td>\n",
       "      <td>N deg</td>\n",
       "      <td>2</td>\n",
       "      <td>N ms-1</td>\n",
       "      <td>3.5</td>\n",
       "      <td>N degC</td>\n",
       "    </tr>\n",
       "    <tr>\n",
       "      <th>2</th>\n",
       "      <td>01/01/2020</td>\n",
       "      <td>03:00:00</td>\n",
       "      <td>87.6215</td>\n",
       "      <td>P ugm-3</td>\n",
       "      <td>63.00646</td>\n",
       "      <td>P ugm-3</td>\n",
       "      <td>197.35755</td>\n",
       "      <td>P ugm-3</td>\n",
       "      <td>22.05</td>\n",
       "      <td>P ugm-3 (FIDAS)</td>\n",
       "      <td>...</td>\n",
       "      <td>No data</td>\n",
       "      <td>NaN</td>\n",
       "      <td>No data</td>\n",
       "      <td>NaN</td>\n",
       "      <td>209.7</td>\n",
       "      <td>N deg</td>\n",
       "      <td>3</td>\n",
       "      <td>N ms-1</td>\n",
       "      <td>4.5</td>\n",
       "      <td>N degC</td>\n",
       "    </tr>\n",
       "    <tr>\n",
       "      <th>3</th>\n",
       "      <td>01/01/2020</td>\n",
       "      <td>04:00:00</td>\n",
       "      <td>85.59872</td>\n",
       "      <td>P ugm-3</td>\n",
       "      <td>65.06798</td>\n",
       "      <td>P ugm-3</td>\n",
       "      <td>196.31752</td>\n",
       "      <td>P ugm-3</td>\n",
       "      <td>16.8</td>\n",
       "      <td>N ugm-3 (FIDAS)</td>\n",
       "      <td>...</td>\n",
       "      <td>No data</td>\n",
       "      <td>NaN</td>\n",
       "      <td>No data</td>\n",
       "      <td>NaN</td>\n",
       "      <td>219.4</td>\n",
       "      <td>N deg</td>\n",
       "      <td>3.2</td>\n",
       "      <td>N ms-1</td>\n",
       "      <td>5.2</td>\n",
       "      <td>N degC</td>\n",
       "    </tr>\n",
       "    <tr>\n",
       "      <th>4</th>\n",
       "      <td>01/01/2020</td>\n",
       "      <td>05:00:00</td>\n",
       "      <td>71.15032</td>\n",
       "      <td>P ugm-3</td>\n",
       "      <td>64.14318</td>\n",
       "      <td>P ugm-3</td>\n",
       "      <td>173.23882</td>\n",
       "      <td>P ugm-3</td>\n",
       "      <td>16.375</td>\n",
       "      <td>P ugm-3 (FIDAS)</td>\n",
       "      <td>...</td>\n",
       "      <td>No data</td>\n",
       "      <td>NaN</td>\n",
       "      <td>No data</td>\n",
       "      <td>NaN</td>\n",
       "      <td>222.7</td>\n",
       "      <td>N deg</td>\n",
       "      <td>3.9</td>\n",
       "      <td>N ms-1</td>\n",
       "      <td>5.7</td>\n",
       "      <td>N degC</td>\n",
       "    </tr>\n",
       "  </tbody>\n",
       "</table>\n",
       "<p>5 rows × 26 columns</p>\n",
       "</div>"
      ],
      "text/plain": [
       "         Date      Time Nitric oxide   Status Nitrogen dioxide Status.1  \\\n",
       "0  01/01/2020  01:00:00     133.9955  P ugm-3         69.24236  P ugm-3   \n",
       "1  01/01/2020  02:00:00    109.16566  P ugm-3         62.41148  P ugm-3   \n",
       "2  01/01/2020  03:00:00      87.6215  P ugm-3         63.00646  P ugm-3   \n",
       "3  01/01/2020  04:00:00     85.59872  P ugm-3         65.06798  P ugm-3   \n",
       "4  01/01/2020  05:00:00     71.15032  P ugm-3         64.14318  P ugm-3   \n",
       "\n",
       "  Nitrogen oxides as nitrogen dioxide Status.2  \\\n",
       "0                           274.69926  P ugm-3   \n",
       "1                           229.79649  P ugm-3   \n",
       "2                           197.35755  P ugm-3   \n",
       "3                           196.31752  P ugm-3   \n",
       "4                           173.23882  P ugm-3   \n",
       "\n",
       "  PM10 particulate matter (Hourly measured)         Status.3  ...  \\\n",
       "0                                    19.575  P ugm-3 (FIDAS)  ...   \n",
       "1                                    26.475  P ugm-3 (FIDAS)  ...   \n",
       "2                                     22.05  P ugm-3 (FIDAS)  ...   \n",
       "3                                      16.8  N ugm-3 (FIDAS)  ...   \n",
       "4                                    16.375  P ugm-3 (FIDAS)  ...   \n",
       "\n",
       "  Non-volatile PM2.5 (Hourly measured)  Status.7  \\\n",
       "0                              No data       NaN   \n",
       "1                              No data       NaN   \n",
       "2                              No data       NaN   \n",
       "3                              No data       NaN   \n",
       "4                              No data       NaN   \n",
       "\n",
       "  Volatile PM2.5 (Hourly measured)  Status.8 Modelled Wind Direction Status.9  \\\n",
       "0                          No data       NaN                   204.6    N deg   \n",
       "1                          No data       NaN                   187.9    N deg   \n",
       "2                          No data       NaN                   209.7    N deg   \n",
       "3                          No data       NaN                   219.4    N deg   \n",
       "4                          No data       NaN                   222.7    N deg   \n",
       "\n",
       "  Modelled Wind Speed  Status.10 Modelled Temperature  Status.11  \n",
       "0                 1.5     N ms-1                  3.1     N degC  \n",
       "1                   2     N ms-1                  3.5     N degC  \n",
       "2                   3     N ms-1                  4.5     N degC  \n",
       "3                 3.2     N ms-1                  5.2     N degC  \n",
       "4                 3.9     N ms-1                  5.7     N degC  \n",
       "\n",
       "[5 rows x 26 columns]"
      ]
     },
     "execution_count": 11,
     "metadata": {},
     "output_type": "execute_result"
    }
   ],
   "source": [
    "pollution.head(5) # Taking a glimpse at the first 5 rows of data in our dataframe"
   ]
  },
  {
   "cell_type": "code",
   "execution_count": 12,
   "metadata": {},
   "outputs": [],
   "source": [
    "pollution = pollution.set_index('Date') # Setting the \"Date\" column as the dataframe's index "
   ]
  },
  {
   "cell_type": "code",
   "execution_count": 13,
   "metadata": {},
   "outputs": [
    {
     "data": {
      "text/html": [
       "<div>\n",
       "<style scoped>\n",
       "    .dataframe tbody tr th:only-of-type {\n",
       "        vertical-align: middle;\n",
       "    }\n",
       "\n",
       "    .dataframe tbody tr th {\n",
       "        vertical-align: top;\n",
       "    }\n",
       "\n",
       "    .dataframe thead th {\n",
       "        text-align: right;\n",
       "    }\n",
       "</style>\n",
       "<table border=\"1\" class=\"dataframe\">\n",
       "  <thead>\n",
       "    <tr style=\"text-align: right;\">\n",
       "      <th></th>\n",
       "      <th>Time</th>\n",
       "      <th>Nitric oxide</th>\n",
       "      <th>Status</th>\n",
       "      <th>Nitrogen dioxide</th>\n",
       "      <th>Status.1</th>\n",
       "      <th>Nitrogen oxides as nitrogen dioxide</th>\n",
       "      <th>Status.2</th>\n",
       "      <th>PM10 particulate matter (Hourly measured)</th>\n",
       "      <th>Status.3</th>\n",
       "      <th>Non-volatile PM10 (Hourly measured)</th>\n",
       "      <th>...</th>\n",
       "      <th>Non-volatile PM2.5 (Hourly measured)</th>\n",
       "      <th>Status.7</th>\n",
       "      <th>Volatile PM2.5 (Hourly measured)</th>\n",
       "      <th>Status.8</th>\n",
       "      <th>Modelled Wind Direction</th>\n",
       "      <th>Status.9</th>\n",
       "      <th>Modelled Wind Speed</th>\n",
       "      <th>Status.10</th>\n",
       "      <th>Modelled Temperature</th>\n",
       "      <th>Status.11</th>\n",
       "    </tr>\n",
       "    <tr>\n",
       "      <th>Date</th>\n",
       "      <th></th>\n",
       "      <th></th>\n",
       "      <th></th>\n",
       "      <th></th>\n",
       "      <th></th>\n",
       "      <th></th>\n",
       "      <th></th>\n",
       "      <th></th>\n",
       "      <th></th>\n",
       "      <th></th>\n",
       "      <th></th>\n",
       "      <th></th>\n",
       "      <th></th>\n",
       "      <th></th>\n",
       "      <th></th>\n",
       "      <th></th>\n",
       "      <th></th>\n",
       "      <th></th>\n",
       "      <th></th>\n",
       "      <th></th>\n",
       "      <th></th>\n",
       "    </tr>\n",
       "  </thead>\n",
       "  <tbody>\n",
       "    <tr>\n",
       "      <th>01/01/2020</th>\n",
       "      <td>01:00:00</td>\n",
       "      <td>133.9955</td>\n",
       "      <td>P ugm-3</td>\n",
       "      <td>69.24236</td>\n",
       "      <td>P ugm-3</td>\n",
       "      <td>274.69926</td>\n",
       "      <td>P ugm-3</td>\n",
       "      <td>19.575</td>\n",
       "      <td>P ugm-3 (FIDAS)</td>\n",
       "      <td>No data</td>\n",
       "      <td>...</td>\n",
       "      <td>No data</td>\n",
       "      <td>NaN</td>\n",
       "      <td>No data</td>\n",
       "      <td>NaN</td>\n",
       "      <td>204.6</td>\n",
       "      <td>N deg</td>\n",
       "      <td>1.5</td>\n",
       "      <td>N ms-1</td>\n",
       "      <td>3.1</td>\n",
       "      <td>N degC</td>\n",
       "    </tr>\n",
       "    <tr>\n",
       "      <th>01/01/2020</th>\n",
       "      <td>02:00:00</td>\n",
       "      <td>109.16566</td>\n",
       "      <td>P ugm-3</td>\n",
       "      <td>62.41148</td>\n",
       "      <td>P ugm-3</td>\n",
       "      <td>229.79649</td>\n",
       "      <td>P ugm-3</td>\n",
       "      <td>26.475</td>\n",
       "      <td>P ugm-3 (FIDAS)</td>\n",
       "      <td>No data</td>\n",
       "      <td>...</td>\n",
       "      <td>No data</td>\n",
       "      <td>NaN</td>\n",
       "      <td>No data</td>\n",
       "      <td>NaN</td>\n",
       "      <td>187.9</td>\n",
       "      <td>N deg</td>\n",
       "      <td>2</td>\n",
       "      <td>N ms-1</td>\n",
       "      <td>3.5</td>\n",
       "      <td>N degC</td>\n",
       "    </tr>\n",
       "    <tr>\n",
       "      <th>01/01/2020</th>\n",
       "      <td>03:00:00</td>\n",
       "      <td>87.6215</td>\n",
       "      <td>P ugm-3</td>\n",
       "      <td>63.00646</td>\n",
       "      <td>P ugm-3</td>\n",
       "      <td>197.35755</td>\n",
       "      <td>P ugm-3</td>\n",
       "      <td>22.05</td>\n",
       "      <td>P ugm-3 (FIDAS)</td>\n",
       "      <td>No data</td>\n",
       "      <td>...</td>\n",
       "      <td>No data</td>\n",
       "      <td>NaN</td>\n",
       "      <td>No data</td>\n",
       "      <td>NaN</td>\n",
       "      <td>209.7</td>\n",
       "      <td>N deg</td>\n",
       "      <td>3</td>\n",
       "      <td>N ms-1</td>\n",
       "      <td>4.5</td>\n",
       "      <td>N degC</td>\n",
       "    </tr>\n",
       "    <tr>\n",
       "      <th>01/01/2020</th>\n",
       "      <td>04:00:00</td>\n",
       "      <td>85.59872</td>\n",
       "      <td>P ugm-3</td>\n",
       "      <td>65.06798</td>\n",
       "      <td>P ugm-3</td>\n",
       "      <td>196.31752</td>\n",
       "      <td>P ugm-3</td>\n",
       "      <td>16.8</td>\n",
       "      <td>N ugm-3 (FIDAS)</td>\n",
       "      <td>No data</td>\n",
       "      <td>...</td>\n",
       "      <td>No data</td>\n",
       "      <td>NaN</td>\n",
       "      <td>No data</td>\n",
       "      <td>NaN</td>\n",
       "      <td>219.4</td>\n",
       "      <td>N deg</td>\n",
       "      <td>3.2</td>\n",
       "      <td>N ms-1</td>\n",
       "      <td>5.2</td>\n",
       "      <td>N degC</td>\n",
       "    </tr>\n",
       "    <tr>\n",
       "      <th>01/01/2020</th>\n",
       "      <td>05:00:00</td>\n",
       "      <td>71.15032</td>\n",
       "      <td>P ugm-3</td>\n",
       "      <td>64.14318</td>\n",
       "      <td>P ugm-3</td>\n",
       "      <td>173.23882</td>\n",
       "      <td>P ugm-3</td>\n",
       "      <td>16.375</td>\n",
       "      <td>P ugm-3 (FIDAS)</td>\n",
       "      <td>No data</td>\n",
       "      <td>...</td>\n",
       "      <td>No data</td>\n",
       "      <td>NaN</td>\n",
       "      <td>No data</td>\n",
       "      <td>NaN</td>\n",
       "      <td>222.7</td>\n",
       "      <td>N deg</td>\n",
       "      <td>3.9</td>\n",
       "      <td>N ms-1</td>\n",
       "      <td>5.7</td>\n",
       "      <td>N degC</td>\n",
       "    </tr>\n",
       "  </tbody>\n",
       "</table>\n",
       "<p>5 rows × 25 columns</p>\n",
       "</div>"
      ],
      "text/plain": [
       "                Time Nitric oxide   Status Nitrogen dioxide Status.1  \\\n",
       "Date                                                                   \n",
       "01/01/2020  01:00:00     133.9955  P ugm-3         69.24236  P ugm-3   \n",
       "01/01/2020  02:00:00    109.16566  P ugm-3         62.41148  P ugm-3   \n",
       "01/01/2020  03:00:00      87.6215  P ugm-3         63.00646  P ugm-3   \n",
       "01/01/2020  04:00:00     85.59872  P ugm-3         65.06798  P ugm-3   \n",
       "01/01/2020  05:00:00     71.15032  P ugm-3         64.14318  P ugm-3   \n",
       "\n",
       "           Nitrogen oxides as nitrogen dioxide Status.2  \\\n",
       "Date                                                      \n",
       "01/01/2020                           274.69926  P ugm-3   \n",
       "01/01/2020                           229.79649  P ugm-3   \n",
       "01/01/2020                           197.35755  P ugm-3   \n",
       "01/01/2020                           196.31752  P ugm-3   \n",
       "01/01/2020                           173.23882  P ugm-3   \n",
       "\n",
       "           PM10 particulate matter (Hourly measured)         Status.3  \\\n",
       "Date                                                                    \n",
       "01/01/2020                                    19.575  P ugm-3 (FIDAS)   \n",
       "01/01/2020                                    26.475  P ugm-3 (FIDAS)   \n",
       "01/01/2020                                     22.05  P ugm-3 (FIDAS)   \n",
       "01/01/2020                                      16.8  N ugm-3 (FIDAS)   \n",
       "01/01/2020                                    16.375  P ugm-3 (FIDAS)   \n",
       "\n",
       "           Non-volatile PM10 (Hourly measured)  ...  \\\n",
       "Date                                            ...   \n",
       "01/01/2020                             No data  ...   \n",
       "01/01/2020                             No data  ...   \n",
       "01/01/2020                             No data  ...   \n",
       "01/01/2020                             No data  ...   \n",
       "01/01/2020                             No data  ...   \n",
       "\n",
       "            Non-volatile PM2.5 (Hourly measured) Status.7  \\\n",
       "Date                                                        \n",
       "01/01/2020                               No data      NaN   \n",
       "01/01/2020                               No data      NaN   \n",
       "01/01/2020                               No data      NaN   \n",
       "01/01/2020                               No data      NaN   \n",
       "01/01/2020                               No data      NaN   \n",
       "\n",
       "            Volatile PM2.5 (Hourly measured) Status.8 Modelled Wind Direction  \\\n",
       "Date                                                                            \n",
       "01/01/2020                           No data      NaN                   204.6   \n",
       "01/01/2020                           No data      NaN                   187.9   \n",
       "01/01/2020                           No data      NaN                   209.7   \n",
       "01/01/2020                           No data      NaN                   219.4   \n",
       "01/01/2020                           No data      NaN                   222.7   \n",
       "\n",
       "           Status.9  Modelled Wind Speed Status.10  Modelled Temperature  \\\n",
       "Date                                                                       \n",
       "01/01/2020    N deg                  1.5    N ms-1                   3.1   \n",
       "01/01/2020    N deg                    2    N ms-1                   3.5   \n",
       "01/01/2020    N deg                    3    N ms-1                   4.5   \n",
       "01/01/2020    N deg                  3.2    N ms-1                   5.2   \n",
       "01/01/2020    N deg                  3.9    N ms-1                   5.7   \n",
       "\n",
       "           Status.11  \n",
       "Date                  \n",
       "01/01/2020    N degC  \n",
       "01/01/2020    N degC  \n",
       "01/01/2020    N degC  \n",
       "01/01/2020    N degC  \n",
       "01/01/2020    N degC  \n",
       "\n",
       "[5 rows x 25 columns]"
      ]
     },
     "execution_count": 13,
     "metadata": {},
     "output_type": "execute_result"
    }
   ],
   "source": [
    "pollution.head()"
   ]
  },
  {
   "cell_type": "markdown",
   "metadata": {},
   "source": [
    "Below we are reducing the dataset down to the columns we are interested in exploring:"
   ]
  },
  {
   "cell_type": "code",
   "execution_count": 14,
   "metadata": {},
   "outputs": [],
   "source": [
    "pollution = pollution[[\"Time\", \"Nitric oxide\", \"Nitrogen dioxide\"]]"
   ]
  },
  {
   "cell_type": "code",
   "execution_count": 15,
   "metadata": {},
   "outputs": [
    {
     "data": {
      "text/html": [
       "<div>\n",
       "<style scoped>\n",
       "    .dataframe tbody tr th:only-of-type {\n",
       "        vertical-align: middle;\n",
       "    }\n",
       "\n",
       "    .dataframe tbody tr th {\n",
       "        vertical-align: top;\n",
       "    }\n",
       "\n",
       "    .dataframe thead th {\n",
       "        text-align: right;\n",
       "    }\n",
       "</style>\n",
       "<table border=\"1\" class=\"dataframe\">\n",
       "  <thead>\n",
       "    <tr style=\"text-align: right;\">\n",
       "      <th></th>\n",
       "      <th>Time</th>\n",
       "      <th>Nitric oxide</th>\n",
       "      <th>Nitrogen dioxide</th>\n",
       "    </tr>\n",
       "    <tr>\n",
       "      <th>Date</th>\n",
       "      <th></th>\n",
       "      <th></th>\n",
       "      <th></th>\n",
       "    </tr>\n",
       "  </thead>\n",
       "  <tbody>\n",
       "    <tr>\n",
       "      <th>01/01/2020</th>\n",
       "      <td>01:00:00</td>\n",
       "      <td>133.9955</td>\n",
       "      <td>69.24236</td>\n",
       "    </tr>\n",
       "    <tr>\n",
       "      <th>01/01/2020</th>\n",
       "      <td>02:00:00</td>\n",
       "      <td>109.16566</td>\n",
       "      <td>62.41148</td>\n",
       "    </tr>\n",
       "    <tr>\n",
       "      <th>01/01/2020</th>\n",
       "      <td>03:00:00</td>\n",
       "      <td>87.6215</td>\n",
       "      <td>63.00646</td>\n",
       "    </tr>\n",
       "    <tr>\n",
       "      <th>01/01/2020</th>\n",
       "      <td>04:00:00</td>\n",
       "      <td>85.59872</td>\n",
       "      <td>65.06798</td>\n",
       "    </tr>\n",
       "    <tr>\n",
       "      <th>01/01/2020</th>\n",
       "      <td>05:00:00</td>\n",
       "      <td>71.15032</td>\n",
       "      <td>64.14318</td>\n",
       "    </tr>\n",
       "  </tbody>\n",
       "</table>\n",
       "</div>"
      ],
      "text/plain": [
       "                Time Nitric oxide Nitrogen dioxide\n",
       "Date                                              \n",
       "01/01/2020  01:00:00     133.9955         69.24236\n",
       "01/01/2020  02:00:00    109.16566         62.41148\n",
       "01/01/2020  03:00:00      87.6215         63.00646\n",
       "01/01/2020  04:00:00     85.59872         65.06798\n",
       "01/01/2020  05:00:00     71.15032         64.14318"
      ]
     },
     "execution_count": 15,
     "metadata": {},
     "output_type": "execute_result"
    }
   ],
   "source": [
    "pollution.head()"
   ]
  },
  {
   "cell_type": "markdown",
   "metadata": {},
   "source": [
    "It is an important step in the data preparation process that null/NaN values are removed from the dataset. However, as all the data is key for our analysis, we decided to replace these null values with median values."
   ]
  },
  {
   "cell_type": "code",
   "execution_count": 16,
   "metadata": {},
   "outputs": [],
   "source": [
    "pollution['Nitric oxide'].fillna(pollution.median(), inplace=True)\n",
    "pollution['Nitrogen dioxide'].fillna(pollution.median(), inplace=True)"
   ]
  },
  {
   "cell_type": "code",
   "execution_count": 17,
   "metadata": {},
   "outputs": [
    {
     "data": {
      "text/plain": [
       "Time                True\n",
       "Nitric oxide        True\n",
       "Nitrogen dioxide    True\n",
       "dtype: bool"
      ]
     },
     "execution_count": 17,
     "metadata": {},
     "output_type": "execute_result"
    }
   ],
   "source": [
    "pollution.isnull().any() # Allows us to check what columns have null values (if any)"
   ]
  },
  {
   "cell_type": "markdown",
   "metadata": {},
   "source": [
    "We found out that all of the data was imported as an \"object\" rather than a \"float\". This was determined by the information below. We then converted the \"Nitric oxide\" and \"Nitrogen dioxide\" columns to floats so they could be worked with in our analysis,"
   ]
  },
  {
   "cell_type": "code",
   "execution_count": 18,
   "metadata": {},
   "outputs": [
    {
     "name": "stdout",
     "output_type": "stream",
     "text": [
      "<class 'pandas.core.frame.DataFrame'>\n",
      "Index: 3728 entries, 01/01/2020 to End\n",
      "Data columns (total 3 columns):\n",
      "Time                3720 non-null object\n",
      "Nitric oxide        3720 non-null object\n",
      "Nitrogen dioxide    3720 non-null object\n",
      "dtypes: object(3)\n",
      "memory usage: 116.5+ KB\n"
     ]
    }
   ],
   "source": [
    "pollution.info()"
   ]
  },
  {
   "cell_type": "code",
   "execution_count": 19,
   "metadata": {},
   "outputs": [
    {
     "name": "stderr",
     "output_type": "stream",
     "text": [
      "C:\\Users\\Stewart\\Anaconda3\\lib\\site-packages\\ipykernel_launcher.py:1: FutureWarning: convert_objects is deprecated.  To re-infer data dtypes for object columns, use DataFrame.infer_objects()\n",
      "For all other conversions use the data-type specific converters pd.to_datetime, pd.to_timedelta and pd.to_numeric.\n",
      "  \"\"\"Entry point for launching an IPython kernel.\n"
     ]
    },
    {
     "data": {
      "text/plain": [
       "Time                 object\n",
       "Nitric oxide        float64\n",
       "Nitrogen dioxide    float64\n",
       "dtype: object"
      ]
     },
     "execution_count": 19,
     "metadata": {},
     "output_type": "execute_result"
    }
   ],
   "source": [
    "pollution = pollution.convert_objects(convert_numeric=True)\n",
    "pollution.dtypes"
   ]
  },
  {
   "cell_type": "markdown",
   "metadata": {},
   "source": [
    "The air pollution dataset was initially timestamped in hours. However, we felt by taking a peak hour in the day for air pollution (8am), we could use this data to analyse the pollution rates effectively. "
   ]
  },
  {
   "cell_type": "code",
   "execution_count": 20,
   "metadata": {},
   "outputs": [
    {
     "data": {
      "text/html": [
       "<div>\n",
       "<style scoped>\n",
       "    .dataframe tbody tr th:only-of-type {\n",
       "        vertical-align: middle;\n",
       "    }\n",
       "\n",
       "    .dataframe tbody tr th {\n",
       "        vertical-align: top;\n",
       "    }\n",
       "\n",
       "    .dataframe thead th {\n",
       "        text-align: right;\n",
       "    }\n",
       "</style>\n",
       "<table border=\"1\" class=\"dataframe\">\n",
       "  <thead>\n",
       "    <tr style=\"text-align: right;\">\n",
       "      <th></th>\n",
       "      <th>Nitric oxide</th>\n",
       "      <th>Nitrogen dioxide</th>\n",
       "    </tr>\n",
       "  </thead>\n",
       "  <tbody>\n",
       "    <tr>\n",
       "      <th>count</th>\n",
       "      <td>154.000000</td>\n",
       "      <td>154.000000</td>\n",
       "    </tr>\n",
       "    <tr>\n",
       "      <th>mean</th>\n",
       "      <td>11.481979</td>\n",
       "      <td>26.120872</td>\n",
       "    </tr>\n",
       "    <tr>\n",
       "      <th>std</th>\n",
       "      <td>13.829883</td>\n",
       "      <td>19.519971</td>\n",
       "    </tr>\n",
       "    <tr>\n",
       "      <th>min</th>\n",
       "      <td>0.623650</td>\n",
       "      <td>0.382500</td>\n",
       "    </tr>\n",
       "    <tr>\n",
       "      <th>25%</th>\n",
       "      <td>3.029525</td>\n",
       "      <td>11.300487</td>\n",
       "    </tr>\n",
       "    <tr>\n",
       "      <th>50%</th>\n",
       "      <td>6.092950</td>\n",
       "      <td>19.688410</td>\n",
       "    </tr>\n",
       "    <tr>\n",
       "      <th>75%</th>\n",
       "      <td>15.141307</td>\n",
       "      <td>38.360045</td>\n",
       "    </tr>\n",
       "    <tr>\n",
       "      <th>max</th>\n",
       "      <td>76.798800</td>\n",
       "      <td>79.731170</td>\n",
       "    </tr>\n",
       "  </tbody>\n",
       "</table>\n",
       "</div>"
      ],
      "text/plain": [
       "       Nitric oxide  Nitrogen dioxide\n",
       "count    154.000000        154.000000\n",
       "mean      11.481979         26.120872\n",
       "std       13.829883         19.519971\n",
       "min        0.623650          0.382500\n",
       "25%        3.029525         11.300487\n",
       "50%        6.092950         19.688410\n",
       "75%       15.141307         38.360045\n",
       "max       76.798800         79.731170"
      ]
     },
     "execution_count": 20,
     "metadata": {},
     "output_type": "execute_result"
    }
   ],
   "source": [
    "pollution = pollution[pollution[\"Time\"] == \"08:00:00\"] \n",
    "pollution.describe()"
   ]
  },
  {
   "cell_type": "code",
   "execution_count": 21,
   "metadata": {},
   "outputs": [
    {
     "data": {
      "text/html": [
       "<div>\n",
       "<style scoped>\n",
       "    .dataframe tbody tr th:only-of-type {\n",
       "        vertical-align: middle;\n",
       "    }\n",
       "\n",
       "    .dataframe tbody tr th {\n",
       "        vertical-align: top;\n",
       "    }\n",
       "\n",
       "    .dataframe thead th {\n",
       "        text-align: right;\n",
       "    }\n",
       "</style>\n",
       "<table border=\"1\" class=\"dataframe\">\n",
       "  <thead>\n",
       "    <tr style=\"text-align: right;\">\n",
       "      <th></th>\n",
       "      <th>Time</th>\n",
       "      <th>Nitric oxide</th>\n",
       "      <th>Nitrogen dioxide</th>\n",
       "    </tr>\n",
       "    <tr>\n",
       "      <th>Date</th>\n",
       "      <th></th>\n",
       "      <th></th>\n",
       "      <th></th>\n",
       "    </tr>\n",
       "  </thead>\n",
       "  <tbody>\n",
       "    <tr>\n",
       "      <th>01/01/2020</th>\n",
       "      <td>08:00:00</td>\n",
       "      <td>32.04333</td>\n",
       "      <td>53.83027</td>\n",
       "    </tr>\n",
       "    <tr>\n",
       "      <th>02/01/2020</th>\n",
       "      <td>08:00:00</td>\n",
       "      <td>1.44604</td>\n",
       "      <td>5.60838</td>\n",
       "    </tr>\n",
       "    <tr>\n",
       "      <th>03/01/2020</th>\n",
       "      <td>08:00:00</td>\n",
       "      <td>10.58087</td>\n",
       "      <td>44.45435</td>\n",
       "    </tr>\n",
       "    <tr>\n",
       "      <th>04/01/2020</th>\n",
       "      <td>08:00:00</td>\n",
       "      <td>4.21653</td>\n",
       "      <td>15.97509</td>\n",
       "    </tr>\n",
       "    <tr>\n",
       "      <th>05/01/2020</th>\n",
       "      <td>08:00:00</td>\n",
       "      <td>2.77039</td>\n",
       "      <td>8.23651</td>\n",
       "    </tr>\n",
       "  </tbody>\n",
       "</table>\n",
       "</div>"
      ],
      "text/plain": [
       "                Time  Nitric oxide  Nitrogen dioxide\n",
       "Date                                                \n",
       "01/01/2020  08:00:00      32.04333          53.83027\n",
       "02/01/2020  08:00:00       1.44604           5.60838\n",
       "03/01/2020  08:00:00      10.58087          44.45435\n",
       "04/01/2020  08:00:00       4.21653          15.97509\n",
       "05/01/2020  08:00:00       2.77039           8.23651"
      ]
     },
     "execution_count": 21,
     "metadata": {},
     "output_type": "execute_result"
    }
   ],
   "source": [
    "pollution.head()"
   ]
  },
  {
   "cell_type": "code",
   "execution_count": 22,
   "metadata": {},
   "outputs": [
    {
     "data": {
      "text/plain": [
       "Index(['01/01/2020', '02/01/2020', '03/01/2020', '04/01/2020', '05/01/2020',\n",
       "       '06/01/2020', '07/01/2020', '08/01/2020', '09/01/2020', '10/01/2020',\n",
       "       ...\n",
       "       '25/05/2020', '26/05/2020', '27/05/2020', '28/05/2020', '29/05/2020',\n",
       "       '30/05/2020', '31/05/2020', '01/06/2020', '02/06/2020', '03/06/2020'],\n",
       "      dtype='object', name='Date', length=155)"
      ]
     },
     "execution_count": 22,
     "metadata": {},
     "output_type": "execute_result"
    }
   ],
   "source": [
    "pollution.index"
   ]
  },
  {
   "cell_type": "markdown",
   "metadata": {},
   "source": [
    "The next 6 lines of code represent the calculations we made on the percentage change of both \"Nitric oxide\" and \"Nitrogen dioxide\" before and after lockdown was inititated in the UK, respectively. \n",
    "\n",
    "**NB**: The index \"83\" used here is the equivalent of the 23rd of March 2020 which is the day lockdown was initiated in the UK"
   ]
  },
  {
   "cell_type": "code",
   "execution_count": 23,
   "metadata": {},
   "outputs": [
    {
     "data": {
      "text/plain": [
       "15.454096707317065"
      ]
     },
     "execution_count": 23,
     "metadata": {},
     "output_type": "execute_result"
    }
   ],
   "source": [
    "before_no = pollution[\"Nitric oxide\"][:83].mean()\n",
    "before_no"
   ]
  },
  {
   "cell_type": "code",
   "execution_count": 24,
   "metadata": {},
   "outputs": [
    {
     "data": {
      "text/plain": [
       "6.95817722222222"
      ]
     },
     "execution_count": 24,
     "metadata": {},
     "output_type": "execute_result"
    }
   ],
   "source": [
    "after_no = pollution[\"Nitric oxide\"][83:].mean()\n",
    "after_no"
   ]
  },
  {
   "cell_type": "code",
   "execution_count": 25,
   "metadata": {},
   "outputs": [
    {
     "data": {
      "text/plain": [
       "54.975192960144184"
      ]
     },
     "execution_count": 25,
     "metadata": {},
     "output_type": "execute_result"
    }
   ],
   "source": [
    "((before_no - after_no) / before_no)*100"
   ]
  },
  {
   "cell_type": "code",
   "execution_count": 26,
   "metadata": {},
   "outputs": [
    {
     "data": {
      "text/plain": [
       "33.44459280487805"
      ]
     },
     "execution_count": 26,
     "metadata": {},
     "output_type": "execute_result"
    }
   ],
   "source": [
    "before_nd = pollution[\"Nitrogen dioxide\"][:83].mean()\n",
    "before_nd"
   ]
  },
  {
   "cell_type": "code",
   "execution_count": 27,
   "metadata": {},
   "outputs": [
    {
     "data": {
      "text/plain": [
       "17.779967916666667"
      ]
     },
     "execution_count": 27,
     "metadata": {},
     "output_type": "execute_result"
    }
   ],
   "source": [
    "after_nd = pollution[\"Nitrogen dioxide\"][83:].mean()\n",
    "after_nd"
   ]
  },
  {
   "cell_type": "code",
   "execution_count": 28,
   "metadata": {},
   "outputs": [
    {
     "data": {
      "text/plain": [
       "46.83754106262171"
      ]
     },
     "execution_count": 28,
     "metadata": {},
     "output_type": "execute_result"
    }
   ],
   "source": [
    "((before_nd - after_nd) / before_nd)*100"
   ]
  },
  {
   "cell_type": "markdown",
   "metadata": {},
   "source": [
    "The results of the calculations for percentage changes in air pollution were as follows:\n",
    "\n",
    "1. Nitric oxide = 54.975% reduction\n",
    "2. Nitrogen dioxide = 46.838% reduction"
   ]
  },
  {
   "cell_type": "markdown",
   "metadata": {},
   "source": [
    "The plot below is a clear indication that since lockdown was initiated in the UK on the 23rd of March 2020, air pollution levels in both Nitric oxide and Nitrogen dioxide have dropped by a substantial amount. This is likely to be caused by many people now being forced to work from their homes and this results in less transport activity across Glasgow. Therefore, if companies could continue implementing teleworking as much as possible once lockdown restrictions are eased, this could have a monumental impact on the environment going forward in the future."
   ]
  },
  {
   "cell_type": "code",
   "execution_count": 31,
   "metadata": {},
   "outputs": [
    {
     "data": {
      "image/png": "[encoded data removed]",
      "text/plain": [
       "<Figure size 1008x504 with 1 Axes>"
      ]
     },
     "metadata": {
      "needs_background": "light"
     },
     "output_type": "display_data"
    }
   ],
   "source": [
    "pollution.plot(figsize=(14, 7), color=['b', 'r'], fontsize=14)\n",
    "\n",
    "import datetime as dt\n",
    "plt.title(\"Air Pollution Levels in Glasgow's City Centre in 2020\", fontsize=16)\n",
    "plt.xlabel('Date', fontsize=16)\n",
    "plt.ylabel('Concentration (ug m-3)', fontsize=16)\n",
    "plt.axvline(x=83,color='k',linestyle='--', linewidth=3) # Dashed horizontal line splits time period of pre- and post-lockdown\n",
    "plt.ylim(0,80)\n",
    "plt.text(15, 75, \"Pre-Lockdown\", fontsize=20)\n",
    "plt.text(95, 75, \"Post-Lockdown\", fontsize=20)\n",
    "plt.text(88, 65, \"(Nitric Oxide - 54,975% Reduction,\", fontsize=16)\n",
    "plt.text(88, 60, \"Nitrogen Dioxide - 46.838% Reduction)\", fontsize=16)\n",
    "plt.legend()\n",
    "plt.show()\n"
   ]
  },
  {
   "cell_type": "code",
   "execution_count": null,
   "metadata": {},
   "outputs": [],
   "source": []
  }
 ],
 "metadata": {
  "kernelspec": {
   "display_name": "Python 3",
   "language": "python",
   "name": "python3"
  },
  "language_info": {
   "codemirror_mode": {
    "name": "ipython",
    "version": 3
   },
   "file_extension": ".py",
   "mimetype": "text/x-python",
   "name": "python",
   "nbconvert_exporter": "python",
   "pygments_lexer": "ipython3",
   "version": "3.7.3"
  }
 },
 "nbformat": 4,
 "nbformat_minor": 2
}
